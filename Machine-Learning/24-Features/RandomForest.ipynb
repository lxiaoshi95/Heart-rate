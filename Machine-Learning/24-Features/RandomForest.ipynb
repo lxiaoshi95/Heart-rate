{
 "cells": [
  {
   "cell_type": "code",
   "execution_count": 1,
   "metadata": {
    "collapsed": false
   },
   "outputs": [],
   "source": [
    "import scipy.io as sio\n",
    "import matplotlib.pyplot as plt\n",
    "import numpy as np\n",
    "import pywt\n",
    "import random\n",
    "from sklearn.ensemble import RandomForestRegressor\n",
    "from sklearn import metrics"
   ]
  },
  {
   "cell_type": "code",
   "execution_count": 2,
   "metadata": {
    "collapsed": false
   },
   "outputs": [],
   "source": [
    "random.seed(1)\n",
    "dataset = sio.loadmat('dataset.mat')\n",
    "heart_rate = dataset['heart_rate']\n",
    "signal = dataset['signal']"
   ]
  },
  {
   "cell_type": "code",
   "execution_count": 3,
   "metadata": {
    "collapsed": true
   },
   "outputs": [],
   "source": [
    "def statistics(signal):\n",
    "    avg = np.mean(signal)\n",
    "    sd = np.std(signal)\n",
    "    maxm = max(signal)\n",
    "    minm = min(signal)\n",
    "    return avg, sd, maxm, minm"
   ]
  },
  {
   "cell_type": "code",
   "execution_count": 4,
   "metadata": {
    "collapsed": true
   },
   "outputs": [],
   "source": [
    "# extract feature\n",
    "def extractfeature(signal, heart_rate):\n",
    "    a = len(heart_rate)\n",
    "    b = np.linspace(0, a-1, a, dtype=int)\n",
    "    random.shuffle(b)\n",
    "    b.astype('int')\n",
    "    features = np.zeros((a, 48))\n",
    "    heart = np.zeros((a, 1))\n",
    "    for j in range(0, a):\n",
    "        i = b[j]\n",
    "        signal11 = signal[i, 0: 1000]\n",
    "        signal12 = (signal11[1:-1] + signal11[2:])/ 2. - (signal11[1:-1] + signal11[:-2])/ 2.\n",
    "        signal13 = signal11[2:] - 2*signal11[1:-1] + signal11[:-2]\n",
    "        _, signal16, signal15, signal14 = pywt.wavedec(signal11, 'Haar', level=3)\n",
    "        signal21 = signal[i, 1000: 2000]\n",
    "        signal22 = (signal21[1:-1] + signal21[2:])/ 2. - (signal21[1:-1] + signal21[:-2])/ 2.\n",
    "        signal23 = signal21[2:] - 2*signal21[1:-1] + signal21[:-2]\n",
    "        _, signal26, signal25, signal24 = pywt.wavedec(signal21, 'Haar', level=3)\n",
    "        features[j, 0:4] = statistics(signal11)\n",
    "        features[j, 4:8] = statistics(signal12)\n",
    "        features[j, 8:12] = statistics(signal13)\n",
    "        features[j, 12:16] = statistics(signal14)\n",
    "        features[j, 16:20] = statistics(signal15)\n",
    "        features[j, 20:24] = statistics(signal16)\n",
    "        features[j, 24:28] = statistics(signal21)\n",
    "        features[j, 28:32] = statistics(signal22)\n",
    "        features[j, 32:36] = statistics(signal23)\n",
    "        features[j, 36:40] = statistics(signal24)\n",
    "        features[j, 40:44] = statistics(signal25)\n",
    "        features[j, 44:48] = statistics(signal26)\n",
    "        heart[j] = heart_rate[i]\n",
    "    return features, heart"
   ]
  },
  {
   "cell_type": "code",
   "execution_count": 5,
   "metadata": {
    "collapsed": false
   },
   "outputs": [],
   "source": [
    "X, Y  = extractfeature(signal, heart_rate)\n",
    "X_train, Y_train = X[:2400, :], Y[:2400, 0]\n",
    "X_test, Y_test = X[2400:, :], Y[2400:, 0]"
   ]
  },
  {
   "cell_type": "code",
   "execution_count": 14,
   "metadata": {
    "collapsed": false
   },
   "outputs": [],
   "source": [
    "regressor = RandomForestRegressor(n_estimators = 450, oob_score=True)\n",
    "regressor.fit(X_train, Y_train)\n",
    "Y_pred = regressor.predict(X_test)"
   ]
  },
  {
   "cell_type": "code",
   "execution_count": 16,
   "metadata": {
    "collapsed": false
   },
   "outputs": [
    {
     "data": {
      "image/png": "[encoded data removed]",
      "text/plain": [
       "<Figure size 432x288 with 1 Axes>"
      ]
     },
     "metadata": {},
     "output_type": "display_data"
    },
    {
     "name": "stdout",
     "output_type": "stream",
     "text": [
      "The avarage predict error:  9.87827369218\n",
      "The mean squared error: 175.096321621\n"
     ]
    }
   ],
   "source": [
    "X = np.linspace(0, 802, 803)\n",
    "Y_error = abs(Y_pred - Y_test)\n",
    "plt.scatter(X, Y_error)\n",
    "plt.show()\n",
    "print('The avarage predict error: ', np.mean(Y_error))\n",
    "print ('The mean squared error:', metrics.mean_squared_error(Y_test, Y_pred))"
   ]
  },
  {
   "cell_type": "code",
   "execution_count": 17,
   "metadata": {
    "collapsed": false
   },
   "outputs": [
    {
     "name": "stdout",
     "output_type": "stream",
     "text": [
      "n_estimators:  50\n",
      "The avarage predict error:  9.87827369218\n",
      "The mean squared error: 173.373941499\n",
      "n_estimators:  100\n",
      "The avarage predict error:  9.89421285478\n",
      "The mean squared error: 175.691162831\n",
      "n_estimators:  150\n",
      "The avarage predict error:  9.85200191566\n",
      "The mean squared error: 175.951133927\n",
      "n_estimators:  200\n",
      "The avarage predict error:  9.82616141012\n",
      "The mean squared error: 175.154340453\n",
      "n_estimators:  250\n",
      "The avarage predict error:  9.81639950648\n",
      "The mean squared error: 171.907924649\n",
      "n_estimators:  300\n",
      "The avarage predict error:  9.7604241407\n",
      "The mean squared error: 175.344322469\n",
      "n_estimators:  350\n",
      "The avarage predict error:  9.88367695702\n",
      "The mean squared error: 173.171567895\n",
      "n_estimators:  400\n",
      "The avarage predict error:  9.77165798805\n",
      "The mean squared error: 173.546190824\n",
      "n_estimators:  450\n",
      "The avarage predict error:  9.82903120633\n",
      "The mean squared error: 173.088197689\n",
      "n_estimators:  500\n",
      "The avarage predict error:  9.77541616689\n",
      "The mean squared error: 173.037942549\n"
     ]
    }
   ],
   "source": [
    "for a in range(50, 550, 50):\n",
    "    regressor = RandomForestRegressor(n_estimators = a, oob_score=True)\n",
    "    regressor.fit(X_train, Y_train)\n",
    "    Y_error = abs(Y_pred - Y_test)\n",
    "    Y_pred = regressor.predict(X_test)\n",
    "    print('n_estimators: ', a)\n",
    "    print('The avarage predict error: ', np.mean(Y_error))\n",
    "    print('The mean squared error:', metrics.mean_squared_error(Y_test, Y_pred))"
   ]
  },
  {
   "cell_type": "code",
   "execution_count": null,
   "metadata": {
    "collapsed": true
   },
   "outputs": [],
   "source": []
  }
 ],
 "metadata": {
  "kernelspec": {
   "display_name": "Python 3",
   "language": "python",
   "name": "python3"
  },
  "language_info": {
   "codemirror_mode": {
    "name": "ipython",
    "version": 3
   },
   "file_extension": ".py",
   "mimetype": "text/x-python",
   "name": "python",
   "nbconvert_exporter": "python",
   "pygments_lexer": "ipython3",
   "version": "3.6.3"
  }
 },
 "nbformat": 4,
 "nbformat_minor": 2
}
